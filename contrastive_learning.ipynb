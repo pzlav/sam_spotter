{
 "cells": [
  {
   "cell_type": "code",
   "execution_count": 1,
   "metadata": {},
   "outputs": [],
   "source": [
    "import pandas\n",
    "import numpy as np\n",
    "import matplotlib.pyplot as plt\n",
    "import pickle   \n",
    "\n",
    "import torch\n",
    "import torch.nn as nn\n",
    "import torch.optim as optim\n",
    "import torch.nn.functional as F\n",
    "from torch.utils.data import Dataset, DataLoader\n",
    "\n",
    "from tqdm import tqdm\n",
    "import plotly.express as px\n",
    "import plotly.graph_objects as go\n",
    "from sklearn.decomposition import PCA\n",
    "from sklearn.model_selection import train_test_split"
   ]
  },
  {
   "cell_type": "code",
   "execution_count": 2,
   "metadata": {},
   "outputs": [
    {
     "name": "stdout",
     "output_type": "stream",
     "text": [
      "cuda:0\n"
     ]
    }
   ],
   "source": [
    "BATCH_SIZE = 16\n",
    "NUM_OF_ITERATIONS = 500\n",
    "LEARNING_RATE = 0.0003\n",
    "EMBEDDING_DIM = 8\n",
    "\n",
    "# BATCH_SIZE = 16\n",
    "# NUM_OF_ITERATIONS = 1000\n",
    "# LEARNING_RATE = 0.0001\n",
    "# EMBEDDING_DIM = 8\n",
    "\n",
    "\n",
    "device = torch.device(\"cuda:0\" if torch.cuda.is_available() else \"cpu\")\n",
    "print(device)"
   ]
  },
  {
   "cell_type": "code",
   "execution_count": 3,
   "metadata": {},
   "outputs": [
    {
     "name": "stdout",
     "output_type": "stream",
     "text": [
      "type1_data: 134\n",
      "type2_data: 52\n",
      "type3_data: 25\n"
     ]
    }
   ],
   "source": [
    "all_data1 =  pickle.load(open(\"all_latents.pkl\", \"rb\"))\n",
    "all_data2 = pickle.load(open(\"test_latents.pkl\", \"rb\"))\n",
    "all_data = all_data1 + all_data2\n",
    "type1_data = [x for x in all_data if x['video_type'] == 0]\n",
    "type2_data = [x for x in all_data if x['video_type'] == 1]\n",
    "type3_data = [x for x in all_data if x['video_type'] == 2]\n",
    "\n",
    "print(\"type1_data:\", len(type1_data))\n",
    "print(\"type2_data:\", len(type2_data))\n",
    "print(\"type3_data:\", len(type3_data))"
   ]
  },
  {
   "cell_type": "code",
   "execution_count": 4,
   "metadata": {},
   "outputs": [
    {
     "data": {
      "text/plain": [
       "torch.Size([1, 4, 38, 36, 64])"
      ]
     },
     "execution_count": 4,
     "metadata": {},
     "output_type": "execute_result"
    }
   ],
   "source": [
    "t = all_data1[0]['latent_straight']\n",
    "t.shape"
   ]
  },
  {
   "cell_type": "code",
   "execution_count": 5,
   "metadata": {},
   "outputs": [
    {
     "data": {
      "text/plain": [
       "torch.Size([1, 38, 36, 64])"
      ]
     },
     "execution_count": 5,
     "metadata": {},
     "output_type": "execute_result"
    }
   ],
   "source": [
    "t = t.mean(dim=1, keepdim=False)\n",
    "t.shape"
   ]
  },
  {
   "cell_type": "code",
   "execution_count": 6,
   "metadata": {},
   "outputs": [
    {
     "data": {
      "text/plain": [
       "1280"
      ]
     },
     "execution_count": 6,
     "metadata": {},
     "output_type": "execute_result"
    }
   ],
   "source": [
    "1024+256\n"
   ]
  },
  {
   "cell_type": "code",
   "execution_count": 7,
   "metadata": {},
   "outputs": [
    {
     "data": {
      "text/plain": [
       "torch.Size([38, 36, 64])"
      ]
     },
     "execution_count": 7,
     "metadata": {},
     "output_type": "execute_result"
    }
   ],
   "source": [
    "t = t.squeeze(0)\n",
    "t.shape"
   ]
  },
  {
   "cell_type": "code",
   "execution_count": null,
   "metadata": {},
   "outputs": [],
   "source": []
  },
  {
   "cell_type": "code",
   "execution_count": 8,
   "metadata": {},
   "outputs": [],
   "source": [
    "np.random.seed(42)\n",
    "type1_data, test_data1 = train_test_split(type1_data, test_size=0.2)\n",
    "type2_data, test_data2 = train_test_split(type2_data, test_size=0.2)\n",
    "type3_data, test_data3 = train_test_split(type3_data, test_size=0.2)"
   ]
  },
  {
   "cell_type": "code",
   "execution_count": 9,
   "metadata": {},
   "outputs": [],
   "source": [
    "class customDataset(Dataset):\n",
    "    def __init__(self, data_list):\n",
    "        self.data_list = data_list\n",
    "    def __len__(self):\n",
    "        return len(self.data_list)\n",
    "    def __getitem__(self, idx):\n",
    "        sample = self.data_list[idx]\n",
    "        latent_forward = torch.squeeze(sample['latent_straight']).float().to(device)\n",
    "        latent_reverse = torch.squeeze(sample['latent_reverse']).float().to(device)\n",
    "        label = torch.tensor(sample['video_type'], dtype=torch.int8).to(device)\n",
    "        return latent_forward, latent_reverse, label\n",
    "\n",
    "class InfiniteDataLoader:\n",
    "    def __init__(self, dataloader):\n",
    "        self.dataloader = dataloader\n",
    "        self.data_iter = iter(dataloader)\n",
    "    def get_next(self):\n",
    "        try:\n",
    "            data = next(self.data_iter)\n",
    "        except StopIteration:\n",
    "            self.data_iter = iter(self.dataloader)\n",
    "            data = next(self.data_iter)\n",
    "        return data\n",
    "    \n",
    "\n",
    "dataset1 = customDataset(type1_data)\n",
    "dataset2 = customDataset(type2_data)\n",
    "dataset3 = customDataset(type3_data)\n",
    "dataloader1 = DataLoader(dataset1, batch_size=BATCH_SIZE, shuffle=True)\n",
    "dataloader2 = DataLoader(dataset2, batch_size=BATCH_SIZE, shuffle=True)\n",
    "dataloader3 = DataLoader(dataset3, batch_size=BATCH_SIZE, shuffle=True)\n",
    "infinite_dataloader1 = InfiniteDataLoader(dataloader1)\n",
    "infinite_dataloader2 = InfiniteDataLoader(dataloader2)\n",
    "infinite_dataloader3 = InfiniteDataLoader(dataloader3)"
   ]
  },
  {
   "cell_type": "code",
   "execution_count": 10,
   "metadata": {},
   "outputs": [
    {
     "name": "stdout",
     "output_type": "stream",
     "text": [
      "latent_forward.shape=torch.Size([16, 4, 38, 36, 64])\n",
      "latent_reverse.shape=torch.Size([16, 4, 38, 36, 64])\n",
      "labels.shape=torch.Size([16])\n"
     ]
    }
   ],
   "source": [
    "latent_forward, latent_reverse, labels = infinite_dataloader3.get_next()\n",
    "print(f\"{latent_forward.shape=}\")\n",
    "print(f\"{latent_reverse.shape=}\")\n",
    "print(f\"{labels.shape=}\")  "
   ]
  },
  {
   "cell_type": "code",
   "execution_count": 11,
   "metadata": {},
   "outputs": [
    {
     "data": {
      "text/plain": [
       "3832"
      ]
     },
     "execution_count": 11,
     "metadata": {},
     "output_type": "execute_result"
    }
   ],
   "source": [
    "class VideoEmbedder(nn.Module):\n",
    "    def __init__(self, out_dim=32):\n",
    "        super().__init__()\n",
    "        self.conv3d = nn.Sequential(\n",
    "            nn.Conv3d(in_channels=1, out_channels=8, kernel_size=3, stride=1, padding=1),\n",
    "            nn.ReLU(inplace=True),\n",
    "            nn.MaxPool3d((1,2,2)),\n",
    "            nn.Conv3d(8,16, kernel_size=3, stride=1, padding=1),\n",
    "            nn.ReLU(inplace=True),\n",
    "            nn.AdaptiveAvgPool3d((None,1,1))  # keep T, pool over H,W\n",
    "        )\n",
    "        self.time_pool = nn.AdaptiveAvgPool1d(1)\n",
    "        self.fc = nn.Linear(16, out_dim)\n",
    "\n",
    "    def forward(self, x):\n",
    "        x = x.mean(dim=1, keepdim=True)\n",
    "        x = self.conv3d(x)       # => [B,16,T,1,1]\n",
    "        x = x.squeeze(-1).squeeze(-1)  # => [B,16,T]\n",
    "        x = self.time_pool(x)          # => [B,16,1]\n",
    "        x = x.squeeze(-1)              # => [B,16]\n",
    "        x = self.fc(x)  \n",
    "        return x\n",
    "\n",
    "    def total_params(self):\n",
    "        return sum(p.numel() for p in self.parameters() if p.requires_grad) \n",
    "\n",
    "VE_model = VideoEmbedder(out_dim=EMBEDDING_DIM)\n",
    "VE_model.total_params()"
   ]
  },
  {
   "cell_type": "code",
   "execution_count": 12,
   "metadata": {},
   "outputs": [],
   "source": [
    "# custom IngoNCE loss function\n",
    "def info_nce_loss(anchor_emb, pos_emb, neg_embs, temperature=0.07):\n",
    "    \"\"\"\n",
    "    anchor_emb: [B, D]    (embeddings for anchor samples)\n",
    "    pos_emb:    [B, D]    (embeddings for positive samples)\n",
    "    neg_embs:   [B, D] or [N, D] (embeddings for negative samples)\n",
    "                Could be a single batch of negative examples\n",
    "                or a bigger pool. \n",
    "    temperature: scalar (softmax temperature)\n",
    "\n",
    "    Returns: scalar (the average InfoNCE loss over the batch)\n",
    "    \"\"\"\n",
    "    sim = nn.functional.cosine_similarity\n",
    "    pos_sim = sim(anchor_emb, pos_emb)\n",
    "    # For each anchor in [B], we want to compare to all negative embeddings.\n",
    "    bsize = anchor_emb.size(0)\n",
    "    anchor_exp = anchor_emb.unsqueeze(1)        # => [B,1,D]\n",
    "    neg_exp = neg_embs.unsqueeze(0)             # => [1,N,D]\n",
    "    neg_sims = sim(anchor_exp.expand(-1, neg_embs.size(0), -1),\n",
    "                   neg_exp.expand(bsize, -1, -1))\n",
    "    pos_sim = pos_sim.unsqueeze(1)              # => [B,1]\n",
    "    logits = torch.cat([pos_sim, neg_sims], dim=1)  # => [B, 1+N]\n",
    "    logits = logits / temperature\n",
    "    labels = torch.zeros(bsize, dtype=torch.long, device=anchor_emb.device)\n",
    "    loss = F.cross_entropy(logits, labels)\n",
    "    return loss"
   ]
  },
  {
   "cell_type": "code",
   "execution_count": 13,
   "metadata": {},
   "outputs": [
    {
     "name": "stdout",
     "output_type": "stream",
     "text": [
      "Iter 0 | Loss: 2.1509\n",
      "Iter 25 | Loss: 2.0436\n",
      "Iter 50 | Loss: 1.8727\n",
      "Iter 75 | Loss: 1.0607\n",
      "Iter 100 | Loss: 0.4837\n",
      "Iter 125 | Loss: 0.0229\n",
      "Iter 150 | Loss: 0.0001\n",
      "Iter 175 | Loss: 0.0001\n",
      "Iter 200 | Loss: 0.0006\n",
      "Iter 225 | Loss: 0.0000\n",
      "Iter 250 | Loss: 0.0007\n",
      "Iter 275 | Loss: 0.0001\n",
      "Iter 300 | Loss: 0.0002\n",
      "Iter 325 | Loss: 0.0000\n",
      "Iter 350 | Loss: 0.0004\n",
      "Iter 375 | Loss: 0.0002\n",
      "Iter 400 | Loss: 0.0015\n",
      "Iter 425 | Loss: 0.0001\n",
      "Iter 450 | Loss: 0.0000\n",
      "Iter 475 | Loss: 0.0000\n"
     ]
    }
   ],
   "source": [
    "VE_model = VE_model.to(device)\n",
    "VE_model.train()\n",
    "optimizer = optim.Adam(VE_model.parameters(), lr=LEARNING_RATE)\n",
    "losses = []\n",
    "\n",
    "# training loop \n",
    "for i in range(NUM_OF_ITERATIONS):\n",
    "\n",
    "    latent1_forward, latent1_reverse, labels = infinite_dataloader1.get_next()\n",
    "    latent2_forward, latent2_reverse, labels = infinite_dataloader2.get_next()\n",
    "    latent3_forward, latent3_reverse, labels = infinite_dataloader3.get_next()\n",
    "\n",
    "    emb1_frw = VE_model(latent1_forward) \n",
    "    emb1_rev = VE_model(latent1_reverse)\n",
    "    emb2_frw = VE_model(latent2_forward)\n",
    "    emb2_rev = VE_model(latent2_reverse)\n",
    "    emb3_frw = VE_model(latent3_forward)\n",
    "    emb3_rev = VE_model(latent3_reverse)\n",
    "\n",
    "    loss1 = info_nce_loss(\n",
    "        anchor_emb=emb1_frw,\n",
    "        pos_emb=emb1_frw,\n",
    "        neg_embs=torch.cat([emb1_rev, emb2_frw, emb3_frw, emb3_rev], dim=0)\n",
    "    )\n",
    "    loss3 = info_nce_loss(\n",
    "        anchor_emb=emb2_frw,\n",
    "        pos_emb=emb2_frw,\n",
    "        neg_embs=torch.cat([emb1_frw, emb2_rev, emb3_frw, emb3_rev], dim=0)\n",
    "    )\n",
    "    loss5 = info_nce_loss(\n",
    "        anchor_emb=emb3_frw,\n",
    "        pos_emb=emb3_frw,\n",
    "        neg_embs=torch.cat([emb1_frw, emb2_frw, emb1_rev, emb2_rev], dim=0)\n",
    "    )\n",
    "\n",
    "\n",
    "    loss = (loss1 + loss3 + loss5) / 3.0\n",
    "\n",
    "    optimizer.zero_grad()\n",
    "    loss.backward()\n",
    "    optimizer.step()\n",
    "    losses.append(loss.item())  \n",
    "    if i % 25 == 0:\n",
    "        print(f\"Iter {i} | Loss: {loss.item():.4f}\")"
   ]
  },
  {
   "cell_type": "code",
   "execution_count": 14,
   "metadata": {},
   "outputs": [
    {
     "name": "stderr",
     "output_type": "stream",
     "text": [
      "100%|██████████| 211/211 [00:00<00:00, 3493.36it/s]\n"
     ]
    }
   ],
   "source": [
    "VE_model.eval()\n",
    "embeddings = []\n",
    "labels = []\n",
    "files = []\n",
    "# Extract embeddings and labels\n",
    "for d in tqdm(all_data):\n",
    "    latent = torch.squeeze(d['latent_straight']).float().unsqueeze(0).to(device)\n",
    "    label = d['video_type']\n",
    "    files.append(d['file'])\n",
    "    labels.append(int(label))\n",
    "    emb = VE_model(latent)\n",
    "    emb = emb.cpu().detach().numpy()\n",
    "    embeddings.append(emb)\n",
    "\n",
    "# Flatten embeddings and apply PCA\n",
    "embeddings = np.vstack(embeddings)"
   ]
  },
  {
   "cell_type": "code",
   "execution_count": 15,
   "metadata": {},
   "outputs": [],
   "source": [
    "pca = PCA(n_components=2)\n",
    "emb_2d = pca.fit_transform(embeddings)\n",
    "# normalize embeddings\n",
    "emb_2d = (emb_2d - emb_2d.mean(axis=0)) / emb_2d.std(axis=0)\n",
    "X = emb_2d[:, 0]\n",
    "Y = emb_2d[:, 1]"
   ]
  },
  {
   "cell_type": "code",
   "execution_count": 16,
   "metadata": {},
   "outputs": [
    {
     "data": {
      "text/plain": [
       "((211,), (211,), 211)"
      ]
     },
     "execution_count": 16,
     "metadata": {},
     "output_type": "execute_result"
    }
   ],
   "source": [
    "X.shape, Y.shape, len(labels)"
   ]
  },
  {
   "cell_type": "code",
   "execution_count": 19,
   "metadata": {},
   "outputs": [
    {
     "data": {
      "application/vnd.plotly.v1+json": {
       "config": {
        "plotlyServerURL": "https://plot.ly"
       },
       "data": [
        {
         "customdata": [
          [
           0,
           "motion_clip_1737288085_sam.mp4"
          ],
          [
           0,
           "motion_clip_1737291560_sam.mp4"
          ],
          [
           0,
           "motion_clip_1737279179_sam.mp4"
          ],
          [
           0,
           "motion_clip_1737284273_sam.mp4"
          ],
          [
           0,
           "motion_clip_1737287651_sam.mp4"
          ],
          [
           0,
           "motion_clip_1737280578_sam.mp4"
          ],
          [
           0,
           "motion_clip_1737279163_sam.mp4"
          ],
          [
           0,
           "motion_clip_1737268822_sam.mp4"
          ],
          [
           0,
           "motion_clip_1737271885_sam.mp4"
          ],
          [
           0,
           "motion_clip_1737285814_sam.mp4"
          ],
          [
           0,
           "motion_clip_1737274332_sam.mp4"
          ],
          [
           0,
           "motion_clip_1737271499_sam.mp4"
          ],
          [
           0,
           "motion_clip_1737278052_sam.mp4"
          ],
          [
           0,
           "motion_clip_1737276251_sam.mp4"
          ],
          [
           0,
           "motion_clip_1737276747_sam.mp4"
          ],
          [
           0,
           "motion_clip_1737272269_sam.mp4"
          ],
          [
           0,
           "motion_clip_1737285169_sam.mp4"
          ],
          [
           0,
           "motion_clip_1737273560_sam.mp4"
          ],
          [
           0,
           "motion_clip_1737264452_sam.mp4"
          ],
          [
           0,
           "motion_clip_1737271673_sam.mp4"
          ],
          [
           0,
           "motion_clip_1737265082_sam.mp4"
          ],
          [
           0,
           "motion_clip_1737265471_sam.mp4"
          ],
          [
           0,
           "motion_clip_1737277571_sam.mp4"
          ],
          [
           0,
           "motion_clip_1737272423_sam.mp4"
          ],
          [
           0,
           "motion_clip_1737264933_sam.mp4"
          ],
          [
           0,
           "motion_clip_1737279763_sam.mp4"
          ],
          [
           0,
           "motion_clip_1737281433_sam.mp4"
          ],
          [
           0,
           "motion_clip_1737285696_sam.mp4"
          ],
          [
           0,
           "motion_clip_1737280400_sam.mp4"
          ],
          [
           0,
           "motion_clip_1737275546_sam.mp4"
          ],
          [
           0,
           "motion_clip_1737267063_sam.mp4"
          ],
          [
           0,
           "motion_clip_1737279069_sam.mp4"
          ],
          [
           0,
           "motion_clip_1737285925_sam.mp4"
          ],
          [
           0,
           "motion_clip_1737274003_sam.mp4"
          ],
          [
           0,
           "motion_clip_1737280140_sam.mp4"
          ],
          [
           0,
           "motion_clip_1737263878_sam.mp4"
          ],
          [
           0,
           "motion_clip_1737286679_sam.mp4"
          ],
          [
           0,
           "motion_clip_1737280529_sam.mp4"
          ],
          [
           0,
           "motion_clip_1737289604_sam.mp4"
          ],
          [
           0,
           "motion_clip_1737284625_sam.mp4"
          ],
          [
           0,
           "motion_clip_1737273873_sam.mp4"
          ],
          [
           0,
           "motion_clip_1737283669_sam.mp4"
          ],
          [
           0,
           "motion_clip_1737279943_sam.mp4"
          ],
          [
           0,
           "motion_clip_1737286135_sam.mp4"
          ],
          [
           0,
           "motion_clip_1737273711_sam.mp4"
          ],
          [
           0,
           "motion_clip_1737264570_sam.mp4"
          ],
          [
           0,
           "motion_clip_1737273260_sam.mp4"
          ],
          [
           0,
           "motion_clip_1737288821_sam.mp4"
          ],
          [
           0,
           "motion_clip_1737274082_sam.mp4"
          ],
          [
           0,
           "motion_clip_1737289333_sam.mp4"
          ],
          [
           0,
           "motion_clip_1737287215_sam.mp4"
          ],
          [
           0,
           "motion_clip_1737275810_sam.mp4"
          ],
          [
           0,
           "motion_clip_1737284160_sam.mp4"
          ],
          [
           0,
           "motion_clip_1737267569_sam.mp4"
          ],
          [
           0,
           "motion_clip_1737271205_sam.mp4"
          ],
          [
           0,
           "motion_clip_1737268229_sam.mp4"
          ],
          [
           0,
           "motion_clip_1737273845_sam.mp4"
          ],
          [
           0,
           "motion_clip_1737268255_sam.mp4"
          ],
          [
           0,
           "motion_clip_1737289192_sam.mp4"
          ],
          [
           0,
           "motion_clip_1737286168_sam.mp4"
          ],
          [
           0,
           "motion_clip_1737284516_sam.mp4"
          ],
          [
           0,
           "motion_clip_1737272194_sam.mp4"
          ],
          [
           0,
           "motion_clip_1737277126_sam.mp4"
          ],
          [
           0,
           "motion_clip_1737271816_sam.mp4"
          ],
          [
           0,
           "motion_clip_1737276236_sam.mp4"
          ],
          [
           0,
           "motion_clip_1737271117_sam.mp4"
          ],
          [
           0,
           "motion_clip_1737283894_sam.mp4"
          ],
          [
           0,
           "motion_clip_1737288085_sam.mp4"
          ],
          [
           0,
           "motion_clip_1737291560_sam.mp4"
          ],
          [
           0,
           "motion_clip_1737279179_sam.mp4"
          ],
          [
           0,
           "motion_clip_1737284273_sam.mp4"
          ],
          [
           0,
           "motion_clip_1737287651_sam.mp4"
          ],
          [
           0,
           "motion_clip_1737280578_sam.mp4"
          ],
          [
           0,
           "motion_clip_1737279163_sam.mp4"
          ],
          [
           0,
           "motion_clip_1737268822_sam.mp4"
          ],
          [
           0,
           "motion_clip_1737271885_sam.mp4"
          ],
          [
           0,
           "motion_clip_1737285814_sam.mp4"
          ],
          [
           0,
           "motion_clip_1737274332_sam.mp4"
          ],
          [
           0,
           "motion_clip_1737271499_sam.mp4"
          ],
          [
           0,
           "motion_clip_1737278052_sam.mp4"
          ],
          [
           0,
           "motion_clip_1737276251_sam.mp4"
          ],
          [
           0,
           "motion_clip_1737276747_sam.mp4"
          ],
          [
           0,
           "motion_clip_1737272269_sam.mp4"
          ],
          [
           0,
           "motion_clip_1737285169_sam.mp4"
          ],
          [
           0,
           "motion_clip_1737273560_sam.mp4"
          ],
          [
           0,
           "motion_clip_1737264452_sam.mp4"
          ],
          [
           0,
           "motion_clip_1737271673_sam.mp4"
          ],
          [
           0,
           "motion_clip_1737265082_sam.mp4"
          ],
          [
           0,
           "motion_clip_1737265471_sam.mp4"
          ],
          [
           0,
           "motion_clip_1737277571_sam.mp4"
          ],
          [
           0,
           "motion_clip_1737272423_sam.mp4"
          ],
          [
           0,
           "motion_clip_1737264933_sam.mp4"
          ],
          [
           0,
           "motion_clip_1737279763_sam.mp4"
          ],
          [
           0,
           "motion_clip_1737281433_sam.mp4"
          ],
          [
           0,
           "motion_clip_1737285696_sam.mp4"
          ],
          [
           0,
           "motion_clip_1737280400_sam.mp4"
          ],
          [
           0,
           "motion_clip_1737275546_sam.mp4"
          ],
          [
           0,
           "motion_clip_1737267063_sam.mp4"
          ],
          [
           0,
           "motion_clip_1737279069_sam.mp4"
          ],
          [
           0,
           "motion_clip_1737285925_sam.mp4"
          ],
          [
           0,
           "motion_clip_1737274003_sam.mp4"
          ],
          [
           0,
           "motion_clip_1737280140_sam.mp4"
          ],
          [
           0,
           "motion_clip_1737263878_sam.mp4"
          ],
          [
           0,
           "motion_clip_1737286679_sam.mp4"
          ],
          [
           0,
           "motion_clip_1737280529_sam.mp4"
          ],
          [
           0,
           "motion_clip_1737289604_sam.mp4"
          ],
          [
           0,
           "motion_clip_1737284625_sam.mp4"
          ],
          [
           0,
           "motion_clip_1737273873_sam.mp4"
          ],
          [
           0,
           "motion_clip_1737283669_sam.mp4"
          ],
          [
           0,
           "motion_clip_1737279943_sam.mp4"
          ],
          [
           0,
           "motion_clip_1737286135_sam.mp4"
          ],
          [
           0,
           "motion_clip_1737273711_sam.mp4"
          ],
          [
           0,
           "motion_clip_1737264570_sam.mp4"
          ],
          [
           0,
           "motion_clip_1737273260_sam.mp4"
          ],
          [
           0,
           "motion_clip_1737288821_sam.mp4"
          ],
          [
           0,
           "motion_clip_1737274082_sam.mp4"
          ],
          [
           0,
           "motion_clip_1737289333_sam.mp4"
          ],
          [
           0,
           "motion_clip_1737287215_sam.mp4"
          ],
          [
           0,
           "motion_clip_1737275810_sam.mp4"
          ],
          [
           0,
           "motion_clip_1737284160_sam.mp4"
          ],
          [
           0,
           "motion_clip_1737267569_sam.mp4"
          ],
          [
           0,
           "motion_clip_1737271205_sam.mp4"
          ],
          [
           0,
           "motion_clip_1737268229_sam.mp4"
          ],
          [
           0,
           "motion_clip_1737273845_sam.mp4"
          ],
          [
           0,
           "motion_clip_1737268255_sam.mp4"
          ],
          [
           0,
           "motion_clip_1737289192_sam.mp4"
          ],
          [
           0,
           "motion_clip_1737286168_sam.mp4"
          ],
          [
           0,
           "motion_clip_1737284516_sam.mp4"
          ],
          [
           0,
           "motion_clip_1737272194_sam.mp4"
          ],
          [
           0,
           "motion_clip_1737277126_sam.mp4"
          ],
          [
           0,
           "motion_clip_1737271816_sam.mp4"
          ],
          [
           0,
           "motion_clip_1737276236_sam.mp4"
          ],
          [
           0,
           "motion_clip_1737271117_sam.mp4"
          ],
          [
           0,
           "motion_clip_1737283894_sam.mp4"
          ]
         ],
         "hovertemplate": "Label=%{customdata[0]}<br>PCA Component 1=%{x}<br>PCA Component 2=%{y}<br>File=%{customdata[1]}<extra></extra>",
         "legendgroup": "No violation",
         "marker": {
          "color": "rgb(228,26,28)",
          "opacity": 0.6,
          "size": 8,
          "symbol": "circle"
         },
         "mode": "markers",
         "name": "No violation",
         "orientation": "v",
         "showlegend": true,
         "type": "scatter",
         "x": [
          0.7246238589286804,
          -0.2479303628206253,
          -0.1831737905740738,
          -1.1933282613754272,
          0.05021028593182564,
          0.17601557075977325,
          0.15499809384346008,
          0.9885849356651306,
          1.4701318740844727,
          -0.4955407977104187,
          0.23020891845226288,
          -1.875897765159607,
          1.1469941139221191,
          1.522768497467041,
          -0.3743807375431061,
          -0.6639887094497681,
          -1.2392728328704834,
          -0.9192252159118652,
          -0.31663575768470764,
          -0.5070636868476868,
          0.3216633200645447,
          0.6663894057273865,
          0.12727080285549164,
          -1.8302842378616333,
          0.3491640090942383,
          0.4503852128982544,
          -0.4217553734779358,
          0.19814962148666382,
          -4.316721439361572,
          -0.5155596137046814,
          -0.9880678653717041,
          -0.600163996219635,
          -1.203643560409546,
          2.149092674255371,
          0.23944281041622162,
          -0.7699042558670044,
          1.1048980951309204,
          -1.083082914352417,
          -0.6265103816986084,
          0.46632876992225647,
          -0.5867286920547485,
          0.0029839277267456055,
          -1.3270519971847534,
          0.17493396997451782,
          0.03104957938194275,
          0.5600500106811523,
          -0.13676247000694275,
          0.22740519046783447,
          0.03172796219587326,
          -0.25265607237815857,
          0.11758550256490707,
          0.6480631232261658,
          -0.06667539477348328,
          -0.896346926689148,
          0.18875788152217865,
          2.0985000133514404,
          -0.7213550806045532,
          -0.24165834486484528,
          0.15322239696979523,
          1.7663456201553345,
          -1.2505583763122559,
          -0.16417095065116882,
          1.0264809131622314,
          -0.19045142829418182,
          -1.4833506345748901,
          -0.9072705507278442,
          0.2518233060836792,
          0.7246238589286804,
          -0.2479303628206253,
          -0.1831737905740738,
          -1.1933282613754272,
          0.05021028593182564,
          0.17601557075977325,
          0.15499809384346008,
          0.9885849356651306,
          1.4701318740844727,
          -0.4955407977104187,
          0.23020891845226288,
          -1.875897765159607,
          1.1469941139221191,
          1.522768497467041,
          -0.3743807375431061,
          -0.6639887094497681,
          -1.2392728328704834,
          -0.9192252159118652,
          -0.31663575768470764,
          -0.5070636868476868,
          0.3216633200645447,
          0.6663894057273865,
          0.12727080285549164,
          -1.8302842378616333,
          0.3491640090942383,
          0.4503852128982544,
          -0.4217553734779358,
          0.19814962148666382,
          -4.316721439361572,
          -0.5155596137046814,
          -0.9880678653717041,
          -0.600163996219635,
          -1.203643560409546,
          2.149092674255371,
          0.23944281041622162,
          -0.7699042558670044,
          1.1048980951309204,
          -1.083082914352417,
          -0.6265103816986084,
          0.46632876992225647,
          -0.5867286920547485,
          0.0029839277267456055,
          -1.3270519971847534,
          0.17493396997451782,
          0.03104957938194275,
          0.5600500106811523,
          -0.13676247000694275,
          0.22740519046783447,
          0.03172796219587326,
          -0.25265607237815857,
          0.11758550256490707,
          0.6480631232261658,
          -0.06667539477348328,
          -0.896346926689148,
          0.18875788152217865,
          2.0985000133514404,
          -0.7213550806045532,
          -0.24165834486484528,
          0.15322239696979523,
          1.7663456201553345,
          -1.2505583763122559,
          -0.16417095065116882,
          1.0264809131622314,
          -0.19045142829418182,
          -1.4833506345748901,
          -0.9072705507278442,
          0.2518233060836792
         ],
         "xaxis": "x",
         "y": [
          -0.27364498376846313,
          -0.19701364636421204,
          0.26108255982398987,
          0.46395057439804077,
          -0.3120521008968353,
          -0.13214021921157837,
          -0.03170086815953255,
          -0.6448337435722351,
          -0.20916570723056793,
          -0.2317485809326172,
          -0.5281969308853149,
          1.5476566553115845,
          -0.5345548987388611,
          -0.29277336597442627,
          0.184748575091362,
          -0.05333990231156349,
          0.49736008048057556,
          -0.49295252561569214,
          0.056331027299165726,
          -0.21988680958747864,
          -0.5772409439086914,
          -0.26772379875183105,
          -0.4423406422138214,
          0.3906061053276062,
          -0.6091866493225098,
          -0.177180215716362,
          0.14809885621070862,
          -0.18695630133152008,
          1.1698216199874878,
          -0.09158801287412643,
          0.37358516454696655,
          0.3864867389202118,
          0.19401676952838898,
          0.9958367943763733,
          -0.7796462774276733,
          -0.7341163158416748,
          -0.734992504119873,
          0.08500755578279495,
          -0.02447565458714962,
          -0.18766343593597412,
          -0.2018117606639862,
          0.0362134613096714,
          1.1254874467849731,
          -0.05543257296085358,
          -0.17003881931304932,
          -0.10293236374855042,
          -0.6303408741950989,
          -0.43419045209884644,
          -0.7449354529380798,
          -0.11098624020814896,
          -0.028516476973891258,
          -0.11334111541509628,
          -0.08476465195417404,
          0.7148011326789856,
          0.05938518047332764,
          -0.5008028745651245,
          -0.09347831457853317,
          -0.29115718603134155,
          0.04175959900021553,
          -0.8994767069816589,
          -0.04475783184170723,
          0.0891679897904396,
          -0.8625231981277466,
          -0.024118266999721527,
          1.3186140060424805,
          -0.2993519604206085,
          -0.49228334426879883,
          -0.27364498376846313,
          -0.19701364636421204,
          0.26108255982398987,
          0.46395057439804077,
          -0.3120521008968353,
          -0.13214021921157837,
          -0.03170086815953255,
          -0.6448337435722351,
          -0.20916570723056793,
          -0.2317485809326172,
          -0.5281969308853149,
          1.5476566553115845,
          -0.5345548987388611,
          -0.29277336597442627,
          0.184748575091362,
          -0.05333990231156349,
          0.49736008048057556,
          -0.49295252561569214,
          0.056331027299165726,
          -0.21988680958747864,
          -0.5772409439086914,
          -0.26772379875183105,
          -0.4423406422138214,
          0.3906061053276062,
          -0.6091866493225098,
          -0.177180215716362,
          0.14809885621070862,
          -0.18695630133152008,
          1.1698216199874878,
          -0.09158801287412643,
          0.37358516454696655,
          0.3864867389202118,
          0.19401676952838898,
          0.9958367943763733,
          -0.7796462774276733,
          -0.7341163158416748,
          -0.734992504119873,
          0.08500755578279495,
          -0.02447565458714962,
          -0.18766343593597412,
          -0.2018117606639862,
          0.0362134613096714,
          1.1254874467849731,
          -0.05543257296085358,
          -0.17003881931304932,
          -0.10293236374855042,
          -0.6303408741950989,
          -0.43419045209884644,
          -0.7449354529380798,
          -0.11098624020814896,
          -0.028516476973891258,
          -0.11334111541509628,
          -0.08476465195417404,
          0.7148011326789856,
          0.05938518047332764,
          -0.5008028745651245,
          -0.09347831457853317,
          -0.29115718603134155,
          0.04175959900021553,
          -0.8994767069816589,
          -0.04475783184170723,
          0.0891679897904396,
          -0.8625231981277466,
          -0.024118266999721527,
          1.3186140060424805,
          -0.2993519604206085,
          -0.49228334426879883
         ],
         "yaxis": "y"
        },
        {
         "customdata": [
          [
           1,
           "motion_clip_1737272677_sam.mp4"
          ],
          [
           1,
           "motion_clip_1737284350_sam.mp4"
          ],
          [
           1,
           "motion_clip_1737268799_sam.mp4"
          ],
          [
           1,
           "motion_clip_1737274122_sam.mp4"
          ],
          [
           1,
           "motion_clip_1737264273_sam.mp4"
          ],
          [
           1,
           "motion_clip_1737283751_sam.mp4"
          ],
          [
           1,
           "motion_clip_1737265625_sam.mp4"
          ],
          [
           1,
           "motion_clip_1737283204_sam.mp4"
          ],
          [
           1,
           "motion_clip_1737285553_sam.mp4"
          ],
          [
           1,
           "motion_clip_1737277001_sam.mp4"
          ],
          [
           1,
           "motion_clip_1737286199_sam.mp4"
          ],
          [
           1,
           "motion_clip_1737274502_sam.mp4"
          ],
          [
           1,
           "motion_clip_1737280477_sam.mp4"
          ],
          [
           1,
           "motion_clip_1737289539_sam.mp4"
          ],
          [
           1,
           "motion_clip_1737272602_sam.mp4"
          ],
          [
           1,
           "motion_clip_1737287095_sam.mp4"
          ],
          [
           1,
           "motion_clip_1737289396_sam.mp4"
          ],
          [
           1,
           "motion_clip_1737285088_sam.mp4"
          ],
          [
           1,
           "motion_clip_1737285306_sam.mp4"
          ],
          [
           1,
           "motion_clip_1737281780_sam.mp4"
          ],
          [
           1,
           "motion_clip_1737277768_sam.mp4"
          ],
          [
           1,
           "motion_clip_1737291077_sam.mp4"
          ],
          [
           1,
           "motion_clip_1737263863_sam.mp4"
          ],
          [
           1,
           "motion_clip_1737280610_sam.mp4"
          ],
          [
           1,
           "motion_clip_1737275978_sam.mp4"
          ],
          [
           1,
           "motion_clip_1737281990_sam.mp4"
          ],
          [
           1,
           "motion_clip_1737272677_sam.mp4"
          ],
          [
           1,
           "motion_clip_1737284350_sam.mp4"
          ],
          [
           1,
           "motion_clip_1737268799_sam.mp4"
          ],
          [
           1,
           "motion_clip_1737274122_sam.mp4"
          ],
          [
           1,
           "motion_clip_1737264273_sam.mp4"
          ],
          [
           1,
           "motion_clip_1737283751_sam.mp4"
          ],
          [
           1,
           "motion_clip_1737265625_sam.mp4"
          ],
          [
           1,
           "motion_clip_1737283204_sam.mp4"
          ],
          [
           1,
           "motion_clip_1737285553_sam.mp4"
          ],
          [
           1,
           "motion_clip_1737277001_sam.mp4"
          ],
          [
           1,
           "motion_clip_1737286199_sam.mp4"
          ],
          [
           1,
           "motion_clip_1737274502_sam.mp4"
          ],
          [
           1,
           "motion_clip_1737280477_sam.mp4"
          ],
          [
           1,
           "motion_clip_1737289539_sam.mp4"
          ],
          [
           1,
           "motion_clip_1737272602_sam.mp4"
          ],
          [
           1,
           "motion_clip_1737287095_sam.mp4"
          ],
          [
           1,
           "motion_clip_1737289396_sam.mp4"
          ],
          [
           1,
           "motion_clip_1737285088_sam.mp4"
          ],
          [
           1,
           "motion_clip_1737285306_sam.mp4"
          ],
          [
           1,
           "motion_clip_1737281780_sam.mp4"
          ],
          [
           1,
           "motion_clip_1737277768_sam.mp4"
          ],
          [
           1,
           "motion_clip_1737291077_sam.mp4"
          ],
          [
           1,
           "motion_clip_1737263863_sam.mp4"
          ],
          [
           1,
           "motion_clip_1737280610_sam.mp4"
          ],
          [
           1,
           "motion_clip_1737275978_sam.mp4"
          ],
          [
           1,
           "motion_clip_1737281990_sam.mp4"
          ]
         ],
         "hovertemplate": "Label=%{customdata[0]}<br>PCA Component 1=%{x}<br>PCA Component 2=%{y}<br>File=%{customdata[1]}<extra></extra>",
         "legendgroup": "Violation",
         "marker": {
          "color": "rgb(55,126,184)",
          "opacity": 0.6,
          "size": 8,
          "symbol": "circle"
         },
         "mode": "markers",
         "name": "Violation",
         "orientation": "v",
         "showlegend": true,
         "type": "scatter",
         "x": [
          -0.050284866243600845,
          0.2879568934440613,
          0.9337912797927856,
          -0.0837818905711174,
          0.3102264404296875,
          1.00899338722229,
          0.8658576607704163,
          0.5297604203224182,
          -0.055743250995874405,
          0.37133339047431946,
          -0.039692074060440063,
          -0.013568447902798653,
          1.184788465499878,
          0.4304695129394531,
          -0.33671140670776367,
          -0.26465311646461487,
          0.30621957778930664,
          0.24283479154109955,
          0.7179049849510193,
          0.16486096382141113,
          1.0463342666625977,
          0.1376645714044571,
          0.3820257782936096,
          0.5253472328186035,
          1.0274631977081299,
          0.025742458179593086,
          -0.050284866243600845,
          0.2879568934440613,
          0.9337912797927856,
          -0.0837818905711174,
          0.3102264404296875,
          1.00899338722229,
          0.8658576607704163,
          0.5297604203224182,
          -0.055743250995874405,
          0.37133339047431946,
          -0.039692074060440063,
          -0.013568447902798653,
          1.184788465499878,
          0.4304695129394531,
          -0.33671140670776367,
          -0.26465311646461487,
          0.30621957778930664,
          0.24283479154109955,
          0.7179049849510193,
          0.16486096382141113,
          1.0463342666625977,
          0.1376645714044571,
          0.3820257782936096,
          0.5253472328186035,
          1.0274631977081299,
          0.025742458179593086
         ],
         "xaxis": "x",
         "y": [
          -0.7177066802978516,
          -0.9898082613945007,
          -0.3239869177341461,
          -1.7096025943756104,
          -1.147637963294983,
          -0.5504465699195862,
          0.8477414846420288,
          -0.9867634177207947,
          -0.7344841361045837,
          0.38666608929634094,
          -0.9115745425224304,
          -1.0993359088897705,
          1.4019403457641602,
          -0.35615527629852295,
          -0.94115149974823,
          -1.2657763957977295,
          -0.4758892059326172,
          -1.03251314163208,
          -0.22597791254520416,
          -0.6957258582115173,
          0.8704038858413696,
          -0.8153479695320129,
          -0.2837541103363037,
          -0.07281959801912308,
          0.8863410949707031,
          -0.8981156945228577,
          -0.7177066802978516,
          -0.9898082613945007,
          -0.3239869177341461,
          -1.7096025943756104,
          -1.147637963294983,
          -0.5504465699195862,
          0.8477414846420288,
          -0.9867634177207947,
          -0.7344841361045837,
          0.38666608929634094,
          -0.9115745425224304,
          -1.0993359088897705,
          1.4019403457641602,
          -0.35615527629852295,
          -0.94115149974823,
          -1.2657763957977295,
          -0.4758892059326172,
          -1.03251314163208,
          -0.22597791254520416,
          -0.6957258582115173,
          0.8704038858413696,
          -0.8153479695320129,
          -0.2837541103363037,
          -0.07281959801912308,
          0.8863410949707031,
          -0.8981156945228577
         ],
         "yaxis": "y"
        },
        {
         "customdata": [
          [
           2,
           "motion_clip_1737264698_sam.mp4"
          ],
          [
           2,
           "motion_clip_1737285630_sam.mp4"
          ],
          [
           2,
           "motion_clip_1737281030_sam.mp4"
          ],
          [
           2,
           "motion_clip_1737280496_sam.mp4"
          ],
          [
           2,
           "motion_clip_1737285232_sam.mp4"
          ],
          [
           2,
           "motion_clip_1737264366_sam.mp4"
          ],
          [
           2,
           "motion_clip_1737280993_sam.mp4"
          ],
          [
           2,
           "motion_clip_1737264698_sam.mp4"
          ],
          [
           2,
           "motion_clip_1737285630_sam.mp4"
          ],
          [
           2,
           "motion_clip_1737281030_sam.mp4"
          ],
          [
           2,
           "motion_clip_1737280496_sam.mp4"
          ],
          [
           2,
           "motion_clip_1737285232_sam.mp4"
          ],
          [
           2,
           "motion_clip_1737264366_sam.mp4"
          ],
          [
           2,
           "motion_clip_1737280993_sam.mp4"
          ],
          [
           2,
           "motion_clip_1737267913_sam.mp4"
          ],
          [
           2,
           "motion_clip_1737264337_sam.mp4"
          ],
          [
           2,
           "motion_clip_1737286565_sam.mp4"
          ],
          [
           2,
           "motion_clip_1737269176_sam.mp4"
          ],
          [
           2,
           "motion_clip_1737283221_sam.mp4"
          ],
          [
           2,
           "motion_clip_1737274858_sam.mp4"
          ],
          [
           2,
           "motion_clip_1737290793_sam.mp4"
          ],
          [
           2,
           "motion_clip_1737280031_sam.mp4"
          ],
          [
           2,
           "motion_clip_1737268938_sam.mp4"
          ],
          [
           2,
           "motion_clip_1737269072_sam.mp4"
          ],
          [
           2,
           "motion_clip_1737289719_sam.mp4"
          ]
         ],
         "hovertemplate": "Label=%{customdata[0]}<br>PCA Component 1=%{x}<br>PCA Component 2=%{y}<br>File=%{customdata[1]}<extra></extra>",
         "legendgroup": "Other",
         "marker": {
          "color": "rgb(77,175,74)",
          "opacity": 0.6,
          "size": 8,
          "symbol": "circle"
         },
         "mode": "markers",
         "name": "Other",
         "orientation": "v",
         "showlegend": true,
         "type": "scatter",
         "x": [
          1.7178254127502441,
          1.9110649824142456,
          -0.7256003022193909,
          1.9638999700546265,
          -2.393806219100952,
          -0.8225084543228149,
          0.2361394166946411,
          1.7178254127502441,
          1.9110649824142456,
          -0.7256003022193909,
          1.9638999700546265,
          -2.393806219100952,
          -0.8225084543228149,
          0.2361394166946411,
          -1.2664177417755127,
          0.8218472003936768,
          -1.0506680011749268,
          -3.2247095108032227,
          -0.3794844150543213,
          1.0474047660827637,
          -1.1695562601089478,
          -0.746237576007843,
          -1.5216542482376099,
          1.9628297090530396,
          0.004170536529272795
         ],
         "xaxis": "x",
         "y": [
          3.9282400608062744,
          0.3577020764350891,
          -0.97919100522995,
          4.754806995391846,
          1.6539568901062012,
          0.35868996381759644,
          1.920170545578003,
          3.9282400608062744,
          0.3577020764350891,
          -0.97919100522995,
          4.754806995391846,
          1.6539568901062012,
          0.35868996381759644,
          1.920170545578003,
          -0.3161533772945404,
          2.4308524131774902,
          0.013118453323841095,
          2.771110773086548,
          -0.8111603260040283,
          0.7864974737167358,
          -0.6730954647064209,
          -0.5895344614982605,
          0.07413481175899506,
          5.352646827697754,
          0.680466890335083
         ],
         "yaxis": "y"
        }
       ],
       "layout": {
        "height": 600,
        "legend": {
         "title": {
          "text": "Label"
         },
         "tracegroupgap": 0
        },
        "template": {
         "data": {
          "bar": [
           {
            "error_x": {
             "color": "#2a3f5f"
            },
            "error_y": {
             "color": "#2a3f5f"
            },
            "marker": {
             "line": {
              "color": "#E5ECF6",
              "width": 0.5
             },
             "pattern": {
              "fillmode": "overlay",
              "size": 10,
              "solidity": 0.2
             }
            },
            "type": "bar"
           }
          ],
          "barpolar": [
           {
            "marker": {
             "line": {
              "color": "#E5ECF6",
              "width": 0.5
             },
             "pattern": {
              "fillmode": "overlay",
              "size": 10,
              "solidity": 0.2
             }
            },
            "type": "barpolar"
           }
          ],
          "carpet": [
           {
            "aaxis": {
             "endlinecolor": "#2a3f5f",
             "gridcolor": "white",
             "linecolor": "white",
             "minorgridcolor": "white",
             "startlinecolor": "#2a3f5f"
            },
            "baxis": {
             "endlinecolor": "#2a3f5f",
             "gridcolor": "white",
             "linecolor": "white",
             "minorgridcolor": "white",
             "startlinecolor": "#2a3f5f"
            },
            "type": "carpet"
           }
          ],
          "choropleth": [
           {
            "colorbar": {
             "outlinewidth": 0,
             "ticks": ""
            },
            "type": "choropleth"
           }
          ],
          "contour": [
           {
            "colorbar": {
             "outlinewidth": 0,
             "ticks": ""
            },
            "colorscale": [
             [
              0,
              "#0d0887"
             ],
             [
              0.1111111111111111,
              "#46039f"
             ],
             [
              0.2222222222222222,
              "#7201a8"
             ],
             [
              0.3333333333333333,
              "#9c179e"
             ],
             [
              0.4444444444444444,
              "#bd3786"
             ],
             [
              0.5555555555555556,
              "#d8576b"
             ],
             [
              0.6666666666666666,
              "#ed7953"
             ],
             [
              0.7777777777777778,
              "#fb9f3a"
             ],
             [
              0.8888888888888888,
              "#fdca26"
             ],
             [
              1,
              "#f0f921"
             ]
            ],
            "type": "contour"
           }
          ],
          "contourcarpet": [
           {
            "colorbar": {
             "outlinewidth": 0,
             "ticks": ""
            },
            "type": "contourcarpet"
           }
          ],
          "heatmap": [
           {
            "colorbar": {
             "outlinewidth": 0,
             "ticks": ""
            },
            "colorscale": [
             [
              0,
              "#0d0887"
             ],
             [
              0.1111111111111111,
              "#46039f"
             ],
             [
              0.2222222222222222,
              "#7201a8"
             ],
             [
              0.3333333333333333,
              "#9c179e"
             ],
             [
              0.4444444444444444,
              "#bd3786"
             ],
             [
              0.5555555555555556,
              "#d8576b"
             ],
             [
              0.6666666666666666,
              "#ed7953"
             ],
             [
              0.7777777777777778,
              "#fb9f3a"
             ],
             [
              0.8888888888888888,
              "#fdca26"
             ],
             [
              1,
              "#f0f921"
             ]
            ],
            "type": "heatmap"
           }
          ],
          "heatmapgl": [
           {
            "colorbar": {
             "outlinewidth": 0,
             "ticks": ""
            },
            "colorscale": [
             [
              0,
              "#0d0887"
             ],
             [
              0.1111111111111111,
              "#46039f"
             ],
             [
              0.2222222222222222,
              "#7201a8"
             ],
             [
              0.3333333333333333,
              "#9c179e"
             ],
             [
              0.4444444444444444,
              "#bd3786"
             ],
             [
              0.5555555555555556,
              "#d8576b"
             ],
             [
              0.6666666666666666,
              "#ed7953"
             ],
             [
              0.7777777777777778,
              "#fb9f3a"
             ],
             [
              0.8888888888888888,
              "#fdca26"
             ],
             [
              1,
              "#f0f921"
             ]
            ],
            "type": "heatmapgl"
           }
          ],
          "histogram": [
           {
            "marker": {
             "pattern": {
              "fillmode": "overlay",
              "size": 10,
              "solidity": 0.2
             }
            },
            "type": "histogram"
           }
          ],
          "histogram2d": [
           {
            "colorbar": {
             "outlinewidth": 0,
             "ticks": ""
            },
            "colorscale": [
             [
              0,
              "#0d0887"
             ],
             [
              0.1111111111111111,
              "#46039f"
             ],
             [
              0.2222222222222222,
              "#7201a8"
             ],
             [
              0.3333333333333333,
              "#9c179e"
             ],
             [
              0.4444444444444444,
              "#bd3786"
             ],
             [
              0.5555555555555556,
              "#d8576b"
             ],
             [
              0.6666666666666666,
              "#ed7953"
             ],
             [
              0.7777777777777778,
              "#fb9f3a"
             ],
             [
              0.8888888888888888,
              "#fdca26"
             ],
             [
              1,
              "#f0f921"
             ]
            ],
            "type": "histogram2d"
           }
          ],
          "histogram2dcontour": [
           {
            "colorbar": {
             "outlinewidth": 0,
             "ticks": ""
            },
            "colorscale": [
             [
              0,
              "#0d0887"
             ],
             [
              0.1111111111111111,
              "#46039f"
             ],
             [
              0.2222222222222222,
              "#7201a8"
             ],
             [
              0.3333333333333333,
              "#9c179e"
             ],
             [
              0.4444444444444444,
              "#bd3786"
             ],
             [
              0.5555555555555556,
              "#d8576b"
             ],
             [
              0.6666666666666666,
              "#ed7953"
             ],
             [
              0.7777777777777778,
              "#fb9f3a"
             ],
             [
              0.8888888888888888,
              "#fdca26"
             ],
             [
              1,
              "#f0f921"
             ]
            ],
            "type": "histogram2dcontour"
           }
          ],
          "mesh3d": [
           {
            "colorbar": {
             "outlinewidth": 0,
             "ticks": ""
            },
            "type": "mesh3d"
           }
          ],
          "parcoords": [
           {
            "line": {
             "colorbar": {
              "outlinewidth": 0,
              "ticks": ""
             }
            },
            "type": "parcoords"
           }
          ],
          "pie": [
           {
            "automargin": true,
            "type": "pie"
           }
          ],
          "scatter": [
           {
            "fillpattern": {
             "fillmode": "overlay",
             "size": 10,
             "solidity": 0.2
            },
            "type": "scatter"
           }
          ],
          "scatter3d": [
           {
            "line": {
             "colorbar": {
              "outlinewidth": 0,
              "ticks": ""
             }
            },
            "marker": {
             "colorbar": {
              "outlinewidth": 0,
              "ticks": ""
             }
            },
            "type": "scatter3d"
           }
          ],
          "scattercarpet": [
           {
            "marker": {
             "colorbar": {
              "outlinewidth": 0,
              "ticks": ""
             }
            },
            "type": "scattercarpet"
           }
          ],
          "scattergeo": [
           {
            "marker": {
             "colorbar": {
              "outlinewidth": 0,
              "ticks": ""
             }
            },
            "type": "scattergeo"
           }
          ],
          "scattergl": [
           {
            "marker": {
             "colorbar": {
              "outlinewidth": 0,
              "ticks": ""
             }
            },
            "type": "scattergl"
           }
          ],
          "scattermapbox": [
           {
            "marker": {
             "colorbar": {
              "outlinewidth": 0,
              "ticks": ""
             }
            },
            "type": "scattermapbox"
           }
          ],
          "scatterpolar": [
           {
            "marker": {
             "colorbar": {
              "outlinewidth": 0,
              "ticks": ""
             }
            },
            "type": "scatterpolar"
           }
          ],
          "scatterpolargl": [
           {
            "marker": {
             "colorbar": {
              "outlinewidth": 0,
              "ticks": ""
             }
            },
            "type": "scatterpolargl"
           }
          ],
          "scatterternary": [
           {
            "marker": {
             "colorbar": {
              "outlinewidth": 0,
              "ticks": ""
             }
            },
            "type": "scatterternary"
           }
          ],
          "surface": [
           {
            "colorbar": {
             "outlinewidth": 0,
             "ticks": ""
            },
            "colorscale": [
             [
              0,
              "#0d0887"
             ],
             [
              0.1111111111111111,
              "#46039f"
             ],
             [
              0.2222222222222222,
              "#7201a8"
             ],
             [
              0.3333333333333333,
              "#9c179e"
             ],
             [
              0.4444444444444444,
              "#bd3786"
             ],
             [
              0.5555555555555556,
              "#d8576b"
             ],
             [
              0.6666666666666666,
              "#ed7953"
             ],
             [
              0.7777777777777778,
              "#fb9f3a"
             ],
             [
              0.8888888888888888,
              "#fdca26"
             ],
             [
              1,
              "#f0f921"
             ]
            ],
            "type": "surface"
           }
          ],
          "table": [
           {
            "cells": {
             "fill": {
              "color": "#EBF0F8"
             },
             "line": {
              "color": "white"
             }
            },
            "header": {
             "fill": {
              "color": "#C8D4E3"
             },
             "line": {
              "color": "white"
             }
            },
            "type": "table"
           }
          ]
         },
         "layout": {
          "annotationdefaults": {
           "arrowcolor": "#2a3f5f",
           "arrowhead": 0,
           "arrowwidth": 1
          },
          "autotypenumbers": "strict",
          "coloraxis": {
           "colorbar": {
            "outlinewidth": 0,
            "ticks": ""
           }
          },
          "colorscale": {
           "diverging": [
            [
             0,
             "#8e0152"
            ],
            [
             0.1,
             "#c51b7d"
            ],
            [
             0.2,
             "#de77ae"
            ],
            [
             0.3,
             "#f1b6da"
            ],
            [
             0.4,
             "#fde0ef"
            ],
            [
             0.5,
             "#f7f7f7"
            ],
            [
             0.6,
             "#e6f5d0"
            ],
            [
             0.7,
             "#b8e186"
            ],
            [
             0.8,
             "#7fbc41"
            ],
            [
             0.9,
             "#4d9221"
            ],
            [
             1,
             "#276419"
            ]
           ],
           "sequential": [
            [
             0,
             "#0d0887"
            ],
            [
             0.1111111111111111,
             "#46039f"
            ],
            [
             0.2222222222222222,
             "#7201a8"
            ],
            [
             0.3333333333333333,
             "#9c179e"
            ],
            [
             0.4444444444444444,
             "#bd3786"
            ],
            [
             0.5555555555555556,
             "#d8576b"
            ],
            [
             0.6666666666666666,
             "#ed7953"
            ],
            [
             0.7777777777777778,
             "#fb9f3a"
            ],
            [
             0.8888888888888888,
             "#fdca26"
            ],
            [
             1,
             "#f0f921"
            ]
           ],
           "sequentialminus": [
            [
             0,
             "#0d0887"
            ],
            [
             0.1111111111111111,
             "#46039f"
            ],
            [
             0.2222222222222222,
             "#7201a8"
            ],
            [
             0.3333333333333333,
             "#9c179e"
            ],
            [
             0.4444444444444444,
             "#bd3786"
            ],
            [
             0.5555555555555556,
             "#d8576b"
            ],
            [
             0.6666666666666666,
             "#ed7953"
            ],
            [
             0.7777777777777778,
             "#fb9f3a"
            ],
            [
             0.8888888888888888,
             "#fdca26"
            ],
            [
             1,
             "#f0f921"
            ]
           ]
          },
          "colorway": [
           "#636efa",
           "#EF553B",
           "#00cc96",
           "#ab63fa",
           "#FFA15A",
           "#19d3f3",
           "#FF6692",
           "#B6E880",
           "#FF97FF",
           "#FECB52"
          ],
          "font": {
           "color": "#2a3f5f"
          },
          "geo": {
           "bgcolor": "white",
           "lakecolor": "white",
           "landcolor": "#E5ECF6",
           "showlakes": true,
           "showland": true,
           "subunitcolor": "white"
          },
          "hoverlabel": {
           "align": "left"
          },
          "hovermode": "closest",
          "mapbox": {
           "style": "light"
          },
          "paper_bgcolor": "white",
          "plot_bgcolor": "#E5ECF6",
          "polar": {
           "angularaxis": {
            "gridcolor": "white",
            "linecolor": "white",
            "ticks": ""
           },
           "bgcolor": "#E5ECF6",
           "radialaxis": {
            "gridcolor": "white",
            "linecolor": "white",
            "ticks": ""
           }
          },
          "scene": {
           "xaxis": {
            "backgroundcolor": "#E5ECF6",
            "gridcolor": "white",
            "gridwidth": 2,
            "linecolor": "white",
            "showbackground": true,
            "ticks": "",
            "zerolinecolor": "white"
           },
           "yaxis": {
            "backgroundcolor": "#E5ECF6",
            "gridcolor": "white",
            "gridwidth": 2,
            "linecolor": "white",
            "showbackground": true,
            "ticks": "",
            "zerolinecolor": "white"
           },
           "zaxis": {
            "backgroundcolor": "#E5ECF6",
            "gridcolor": "white",
            "gridwidth": 2,
            "linecolor": "white",
            "showbackground": true,
            "ticks": "",
            "zerolinecolor": "white"
           }
          },
          "shapedefaults": {
           "line": {
            "color": "#2a3f5f"
           }
          },
          "ternary": {
           "aaxis": {
            "gridcolor": "white",
            "linecolor": "white",
            "ticks": ""
           },
           "baxis": {
            "gridcolor": "white",
            "linecolor": "white",
            "ticks": ""
           },
           "bgcolor": "#E5ECF6",
           "caxis": {
            "gridcolor": "white",
            "linecolor": "white",
            "ticks": ""
           }
          },
          "title": {
           "x": 0.05
          },
          "xaxis": {
           "automargin": true,
           "gridcolor": "white",
           "linecolor": "white",
           "ticks": "",
           "title": {
            "standoff": 15
           },
           "zerolinecolor": "white",
           "zerolinewidth": 2
          },
          "yaxis": {
           "automargin": true,
           "gridcolor": "white",
           "linecolor": "white",
           "ticks": "",
           "title": {
            "standoff": 15
           },
           "zerolinecolor": "white",
           "zerolinewidth": 2
          }
         }
        },
        "title": {
         "text": "PCA Visualization of Embeddings"
        },
        "width": 800,
        "xaxis": {
         "anchor": "y",
         "domain": [
          0,
          1
         ],
         "scaleanchor": "y",
         "title": {
          "text": "PCA Component 1"
         }
        },
        "yaxis": {
         "anchor": "x",
         "domain": [
          0,
          1
         ],
         "title": {
          "text": "PCA Component 2"
         }
        }
       }
      }
     },
     "metadata": {},
     "output_type": "display_data"
    }
   ],
   "source": [
    "labels_str = np.array(labels).astype(str)\n",
    "# change labels description\n",
    "labels_str[labels_str == '0'] = 'No violation'\n",
    "labels_str[labels_str == '1'] = 'Violation'\n",
    "labels_str[labels_str == '2'] = 'Other'\n",
    "\n",
    "fig = px.scatter(\n",
    "    x=X,\n",
    "    y=Y,\n",
    "    color=labels_str,  # Assign colors based on labels\n",
    "    color_discrete_sequence=px.colors.qualitative.Set1,  # Use discrete color palette\n",
    "    labels={'x': 'PCA Component 1', 'y': 'PCA Component 2', 'color': 'Label'},\n",
    "    title='PCA Visualization of Embeddings',\n",
    "    hover_data={'Label': labels, 'File': files}\n",
    ")\n",
    "\n",
    "# Customize marker properties\n",
    "fig.update_traces(marker=dict(size=8, opacity=0.6), showlegend=True) \n",
    "\n",
    "# Adjust layout for a squared plot\n",
    "fig.update_layout(\n",
    "    xaxis=dict(scaleanchor=\"y\", title=\"PCA Component 1\"),\n",
    "    yaxis=dict(title=\"PCA Component 2\"),\n",
    "    height=600,  # Set height\n",
    "    width=800    # Set width\n",
    ")\n",
    "\n",
    "# Show the plot\n",
    "fig.show()"
   ]
  },
  {
   "cell_type": "code",
   "execution_count": 18,
   "metadata": {},
   "outputs": [
    {
     "name": "stderr",
     "output_type": "stream",
     "text": [
      "100%|██████████| 5/5 [00:00<00:00, 717.59it/s]"
     ]
    },
    {
     "name": "stdout",
     "output_type": "stream",
     "text": [
      "Accuracy: 0.6000\n"
     ]
    },
    {
     "name": "stderr",
     "output_type": "stream",
     "text": [
      "\n"
     ]
    }
   ],
   "source": [
    "# kNN for classification on test data\n",
    "from sklearn.neighbors import KNeighborsClassifier\n",
    "\n",
    "# Extract embeddings and labels\n",
    "test_data = test_data3\n",
    "classifier = KNeighborsClassifier(n_neighbors=3)\n",
    "classifier.fit(embeddings, labels)\n",
    "\n",
    "acc_scores = []\n",
    "for d in tqdm(test_data):\n",
    "    latent = torch.squeeze(d['latent_straight']).float().unsqueeze(0).to(device)\n",
    "    label = d['video_type']\n",
    "    emb = VE_model(latent)\n",
    "    emb = emb.cpu().detach().numpy()\n",
    "    pred = classifier.predict(emb)\n",
    "    acc = (pred == label)\n",
    "    acc_scores.append(acc)\n",
    "\n",
    "print(f\"Accuracy: {np.mean(acc_scores):.4f}\")   \n",
    "\n"
   ]
  },
  {
   "cell_type": "code",
   "execution_count": null,
   "metadata": {},
   "outputs": [],
   "source": []
  }
 ],
 "metadata": {
  "kernelspec": {
   "display_name": "cv-vae-s27CPLW--py3.10",
   "language": "python",
   "name": "python3"
  },
  "language_info": {
   "codemirror_mode": {
    "name": "ipython",
    "version": 3
   },
   "file_extension": ".py",
   "mimetype": "text/x-python",
   "name": "python",
   "nbconvert_exporter": "python",
   "pygments_lexer": "ipython3",
   "version": "3.10.12"
  }
 },
 "nbformat": 4,
 "nbformat_minor": 2
}
